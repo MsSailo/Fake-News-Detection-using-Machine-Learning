{
 "cells": [
  {
   "cell_type": "code",
   "execution_count": 41,
   "id": "94f58ddb",
   "metadata": {},
   "outputs": [],
   "source": [
    "import pandas as pd\n",
    "import numpy as np\n",
    "import re, string\n",
    "import seaborn as sns\n",
    "import nltk\n",
    "import matplotlib.pyplot as plt\n",
    "from nltk.stem import WordNetLemmatizer\n",
    "from nltk.corpus import stopwords\n",
    "from sklearn.model_selection import train_test_split, cross_val_score, GridSearchCV\n",
    "from sklearn.feature_extraction.text import TfidfVectorizer\n",
    "from sklearn.linear_model import LogisticRegression\n",
    "from sklearn.feature_extraction.text import CountVectorizer\n",
    "from sklearn.tree import DecisionTreeClassifier\n",
    "from sklearn.ensemble import RandomForestClassifier, GradientBoostingClassifier\n",
    "from sklearn.naive_bayes import MultinomialNB\n",
    "from sklearn.metrics import plot_confusion_matrix\n",
    "#nltk.download('wordnet')\n",
    "#nltk.download('stopwords')"
   ]
  },
  {
   "cell_type": "code",
   "execution_count": 2,
   "id": "c41aa6e0",
   "metadata": {},
   "outputs": [],
   "source": [
    "fake = pd.read_csv(\"Fake.csv\")\n",
    "true = pd.read_csv(\"True.csv\")"
   ]
  },
  {
   "cell_type": "code",
   "execution_count": 3,
   "id": "c4388052",
   "metadata": {},
   "outputs": [],
   "source": [
    "fake[\"fake\"] = 1\n",
    "true[\"fake\"] = 0\n",
    "df = pd.concat([fake, true]).reset_index(drop = True)"
   ]
  },
  {
   "cell_type": "code",
   "execution_count": 4,
   "id": "752db552",
   "metadata": {},
   "outputs": [],
   "source": [
    "df.drop([\"title\",\"subject\",\"date\"], axis=1, inplace=True)"
   ]
  },
  {
   "cell_type": "code",
   "execution_count": 5,
   "id": "b5633f99",
   "metadata": {},
   "outputs": [
    {
     "data": {
      "text/html": [
       "<div>\n",
       "<style scoped>\n",
       "    .dataframe tbody tr th:only-of-type {\n",
       "        vertical-align: middle;\n",
       "    }\n",
       "\n",
       "    .dataframe tbody tr th {\n",
       "        vertical-align: top;\n",
       "    }\n",
       "\n",
       "    .dataframe thead th {\n",
       "        text-align: right;\n",
       "    }\n",
       "</style>\n",
       "<table border=\"1\" class=\"dataframe\">\n",
       "  <thead>\n",
       "    <tr style=\"text-align: right;\">\n",
       "      <th></th>\n",
       "      <th>text</th>\n",
       "      <th>fake</th>\n",
       "    </tr>\n",
       "  </thead>\n",
       "  <tbody>\n",
       "    <tr>\n",
       "      <th>0</th>\n",
       "      <td>Donald Trump just couldn t wish all Americans ...</td>\n",
       "      <td>1</td>\n",
       "    </tr>\n",
       "    <tr>\n",
       "      <th>1</th>\n",
       "      <td>House Intelligence Committee Chairman Devin Nu...</td>\n",
       "      <td>1</td>\n",
       "    </tr>\n",
       "    <tr>\n",
       "      <th>2</th>\n",
       "      <td>On Friday, it was revealed that former Milwauk...</td>\n",
       "      <td>1</td>\n",
       "    </tr>\n",
       "    <tr>\n",
       "      <th>3</th>\n",
       "      <td>On Christmas day, Donald Trump announced that ...</td>\n",
       "      <td>1</td>\n",
       "    </tr>\n",
       "    <tr>\n",
       "      <th>4</th>\n",
       "      <td>Pope Francis used his annual Christmas Day mes...</td>\n",
       "      <td>1</td>\n",
       "    </tr>\n",
       "  </tbody>\n",
       "</table>\n",
       "</div>"
      ],
      "text/plain": [
       "                                                text  fake\n",
       "0  Donald Trump just couldn t wish all Americans ...     1\n",
       "1  House Intelligence Committee Chairman Devin Nu...     1\n",
       "2  On Friday, it was revealed that former Milwauk...     1\n",
       "3  On Christmas day, Donald Trump announced that ...     1\n",
       "4  Pope Francis used his annual Christmas Day mes...     1"
      ]
     },
     "execution_count": 5,
     "metadata": {},
     "output_type": "execute_result"
    }
   ],
   "source": [
    "df.head()"
   ]
  },
  {
   "cell_type": "code",
   "execution_count": 6,
   "id": "7323114a",
   "metadata": {},
   "outputs": [],
   "source": [
    "lemmatizer = WordNetLemmatizer()\n",
    "stop = stopwords.words('english')"
   ]
  },
  {
   "cell_type": "code",
   "execution_count": 7,
   "id": "5b2b74d3",
   "metadata": {},
   "outputs": [],
   "source": [
    "def data_cleaning(text):\n",
    "    text = text.lower() # converts all letters into lowercase\n",
    "    text = lemmatizer.lemmatize(text) # convert a same meaning word in a simple same word    \n",
    "    text = re.sub('https?://\\S+|www\\.\\S+', '', text) # removes web urls\n",
    "    text = re.sub('[^a-zA-Z\\s]', '', text) # removes anything that is not a letter and whitespaces\n",
    "    return text"
   ]
  },
  {
   "cell_type": "code",
   "execution_count": 8,
   "id": "37a0136a",
   "metadata": {},
   "outputs": [],
   "source": [
    "df['text'] = df['text'].apply(data_cleaning)\n",
    "df['text'] = df['text'].apply(lambda x: ' '.join([word for word in x.split() if word not in (stop)]))"
   ]
  },
  {
   "cell_type": "code",
   "execution_count": 9,
   "id": "5f471777",
   "metadata": {},
   "outputs": [
    {
     "data": {
      "text/html": [
       "<div>\n",
       "<style scoped>\n",
       "    .dataframe tbody tr th:only-of-type {\n",
       "        vertical-align: middle;\n",
       "    }\n",
       "\n",
       "    .dataframe tbody tr th {\n",
       "        vertical-align: top;\n",
       "    }\n",
       "\n",
       "    .dataframe thead th {\n",
       "        text-align: right;\n",
       "    }\n",
       "</style>\n",
       "<table border=\"1\" class=\"dataframe\">\n",
       "  <thead>\n",
       "    <tr style=\"text-align: right;\">\n",
       "      <th></th>\n",
       "      <th>text</th>\n",
       "      <th>fake</th>\n",
       "    </tr>\n",
       "  </thead>\n",
       "  <tbody>\n",
       "    <tr>\n",
       "      <th>0</th>\n",
       "      <td>donald trump wish americans happy new year lea...</td>\n",
       "      <td>1</td>\n",
       "    </tr>\n",
       "    <tr>\n",
       "      <th>1</th>\n",
       "      <td>house intelligence committee chairman devin nu...</td>\n",
       "      <td>1</td>\n",
       "    </tr>\n",
       "    <tr>\n",
       "      <th>2</th>\n",
       "      <td>friday revealed former milwaukee sheriff david...</td>\n",
       "      <td>1</td>\n",
       "    </tr>\n",
       "    <tr>\n",
       "      <th>3</th>\n",
       "      <td>christmas day donald trump announced would bac...</td>\n",
       "      <td>1</td>\n",
       "    </tr>\n",
       "    <tr>\n",
       "      <th>4</th>\n",
       "      <td>pope francis used annual christmas day message...</td>\n",
       "      <td>1</td>\n",
       "    </tr>\n",
       "  </tbody>\n",
       "</table>\n",
       "</div>"
      ],
      "text/plain": [
       "                                                text  fake\n",
       "0  donald trump wish americans happy new year lea...     1\n",
       "1  house intelligence committee chairman devin nu...     1\n",
       "2  friday revealed former milwaukee sheriff david...     1\n",
       "3  christmas day donald trump announced would bac...     1\n",
       "4  pope francis used annual christmas day message...     1"
      ]
     },
     "execution_count": 9,
     "metadata": {},
     "output_type": "execute_result"
    }
   ],
   "source": [
    "df.head()"
   ]
  },
  {
   "cell_type": "code",
   "execution_count": 10,
   "id": "6db1253d",
   "metadata": {},
   "outputs": [],
   "source": [
    "from nltk import tokenize\n",
    "\n",
    "token_space = tokenize.WhitespaceTokenizer()\n",
    "\n",
    "def counter(text, column_text, quantity):\n",
    "    all_words = ' '.join([text for text in text[column_text]])\n",
    "    token_phrase = token_space.tokenize(all_words)\n",
    "    frequency = nltk.FreqDist(token_phrase)\n",
    "    df_frequency = pd.DataFrame({\"Word\": list(frequency.keys()),\n",
    "                                   \"Frequency\": list(frequency.values())})\n",
    "    df_frequency = df_frequency.nlargest(columns = \"Frequency\", n = quantity)\n",
    "    plt.figure(figsize=(12,8))\n",
    "    ax = sns.barplot(data = df_frequency, x = \"Word\", y = \"Frequency\", color = 'blue')\n",
    "    ax.set(ylabel = \"Count\")\n",
    "    plt.xticks(rotation='vertical')\n",
    "    plt.show()"
   ]
  },
  {
   "cell_type": "code",
   "execution_count": 11,
   "id": "3a1b78c9",
   "metadata": {},
   "outputs": [
    {
     "data": {
      "image/png": "[encoded data removed]",
      "text/plain": [
       "<Figure size 864x576 with 1 Axes>"
      ]
     },
     "metadata": {
      "needs_background": "light"
     },
     "output_type": "display_data"
    }
   ],
   "source": [
    "counter(df[df[\"fake\"] == 1], \"text\", 20)"
   ]
  },
  {
   "cell_type": "code",
   "execution_count": 12,
   "id": "09a58cae",
   "metadata": {},
   "outputs": [
    {
     "data": {
      "image/png": "[encoded data removed]",
      "text/plain": [
       "<Figure size 864x576 with 1 Axes>"
      ]
     },
     "metadata": {
      "needs_background": "light"
     },
     "output_type": "display_data"
    }
   ],
   "source": [
    "counter(df[df[\"fake\"] == 0], \"text\", 25)"
   ]
  },
  {
   "cell_type": "code",
   "execution_count": 13,
   "id": "42308176",
   "metadata": {},
   "outputs": [],
   "source": [
    "x_train, x_test, y_train, y_test = train_test_split(df.text, df.fake, test_size=0.20)"
   ]
  },
  {
   "cell_type": "code",
   "execution_count": 14,
   "id": "7439751c",
   "metadata": {},
   "outputs": [],
   "source": [
    "vectorization = TfidfVectorizer()\n",
    "xv_train = vectorization.fit_transform(x_train)\n",
    "xv_test = vectorization.transform(x_test)"
   ]
  },
  {
   "cell_type": "code",
   "execution_count": 51,
   "id": "2a794920",
   "metadata": {},
   "outputs": [],
   "source": [
    "dct = dict()"
   ]
  },
  {
   "cell_type": "code",
   "execution_count": 15,
   "id": "f6909be5",
   "metadata": {},
   "outputs": [
    {
     "data": {
      "text/plain": [
       "LogisticRegression()"
      ]
     },
     "execution_count": 15,
     "metadata": {},
     "output_type": "execute_result"
    }
   ],
   "source": [
    "LR_model = LogisticRegression()\n",
    "LR_model.fit(xv_train,y_train)"
   ]
  },
  {
   "cell_type": "code",
   "execution_count": 16,
   "id": "d6259b54",
   "metadata": {},
   "outputs": [
    {
     "data": {
      "text/plain": [
       "<sklearn.metrics._plot.confusion_matrix.ConfusionMatrixDisplay at 0x20c19a18048>"
      ]
     },
     "execution_count": 16,
     "metadata": {},
     "output_type": "execute_result"
    },
    {
     "data": {
      "image/png": "[encoded data removed]",
      "text/plain": [
       "<Figure size 432x288 with 2 Axes>"
      ]
     },
     "metadata": {
      "needs_background": "light"
     },
     "output_type": "display_data"
    }
   ],
   "source": [
    "plot_confusion_matrix(LR_model, xv_test, y_test)"
   ]
  },
  {
   "cell_type": "code",
   "execution_count": 52,
   "id": "f2080272",
   "metadata": {},
   "outputs": [],
   "source": [
    "dct['LR'] = round(LR_model.score(xv_test, y_test)*100,2)"
   ]
  },
  {
   "cell_type": "code",
   "execution_count": 18,
   "id": "71078b71",
   "metadata": {},
   "outputs": [
    {
     "data": {
      "text/plain": [
       "<sklearn.metrics._plot.confusion_matrix.ConfusionMatrixDisplay at 0x20c193310f0>"
      ]
     },
     "execution_count": 18,
     "metadata": {},
     "output_type": "execute_result"
    },
    {
     "data": {
      "image/png": "[encoded data removed]",
      "text/plain": [
       "<Figure size 432x288 with 2 Axes>"
      ]
     },
     "metadata": {
      "needs_background": "light"
     },
     "output_type": "display_data"
    }
   ],
   "source": [
    "DT_model = DecisionTreeClassifier()\n",
    "DT_model.fit(xv_train,y_train)\n",
    "plot_confusion_matrix(DT_model, xv_test, y_test)"
   ]
  },
  {
   "cell_type": "code",
   "execution_count": 53,
   "id": "0506a189",
   "metadata": {},
   "outputs": [],
   "source": [
    "dct['DT'] = round(DT_model.score(xv_test, y_test)*100,2)"
   ]
  },
  {
   "cell_type": "code",
   "execution_count": 20,
   "id": "72f61ccb",
   "metadata": {},
   "outputs": [
    {
     "data": {
      "text/plain": [
       "<sklearn.metrics._plot.confusion_matrix.ConfusionMatrixDisplay at 0x20c10c8f710>"
      ]
     },
     "execution_count": 20,
     "metadata": {},
     "output_type": "execute_result"
    },
    {
     "data": {
      "image/png": "[encoded data removed]",
      "text/plain": [
       "<Figure size 432x288 with 2 Axes>"
      ]
     },
     "metadata": {
      "needs_background": "light"
     },
     "output_type": "display_data"
    }
   ],
   "source": [
    "RFC_model= RandomForestClassifier()\n",
    "RFC_model.fit(xv_train, y_train)\n",
    "plot_confusion_matrix(RFC_model, xv_test, y_test)"
   ]
  },
  {
   "cell_type": "code",
   "execution_count": 54,
   "id": "f2b0ed9f",
   "metadata": {},
   "outputs": [],
   "source": [
    "dct['RFC'] = round(RFC_model.score(xv_test, y_test)*100,2)"
   ]
  },
  {
   "cell_type": "code",
   "execution_count": 22,
   "id": "dc481bb3",
   "metadata": {},
   "outputs": [
    {
     "data": {
      "text/plain": [
       "<sklearn.metrics._plot.confusion_matrix.ConfusionMatrixDisplay at 0x20c1902db00>"
      ]
     },
     "execution_count": 22,
     "metadata": {},
     "output_type": "execute_result"
    },
    {
     "data": {
      "image/png": "[encoded data removed]",
      "text/plain": [
       "<Figure size 432x288 with 2 Axes>"
      ]
     },
     "metadata": {
      "needs_background": "light"
     },
     "output_type": "display_data"
    }
   ],
   "source": [
    "MNB_model = MultinomialNB()\n",
    "MNB_model.fit(xv_train,y_train)\n",
    "plot_confusion_matrix(MNB_model, xv_test, y_test)"
   ]
  },
  {
   "cell_type": "code",
   "execution_count": 55,
   "id": "3bf23c84",
   "metadata": {},
   "outputs": [],
   "source": [
    "dct['MNB'] = round(MNB_model.score(xv_test, y_test)*100,2)"
   ]
  },
  {
   "cell_type": "code",
   "execution_count": 24,
   "id": "238a7e84",
   "metadata": {},
   "outputs": [
    {
     "data": {
      "text/plain": [
       "<sklearn.metrics._plot.confusion_matrix.ConfusionMatrixDisplay at 0x20c0ecb9da0>"
      ]
     },
     "execution_count": 24,
     "metadata": {},
     "output_type": "execute_result"
    },
    {
     "data": {
      "image/png": "[encoded data removed]",
      "text/plain": [
       "<Figure size 432x288 with 2 Axes>"
      ]
     },
     "metadata": {
      "needs_background": "light"
     },
     "output_type": "display_data"
    }
   ],
   "source": [
    "GBC_model = GradientBoostingClassifier()\n",
    "GBC_model.fit(xv_train,y_train)\n",
    "plot_confusion_matrix(GBC_model, xv_test, y_test)"
   ]
  },
  {
   "cell_type": "code",
   "execution_count": 56,
   "id": "c24d2a43",
   "metadata": {},
   "outputs": [],
   "source": [
    "dct['GBC'] = round(GBC_model.score(xv_test, y_test)*100,2)"
   ]
  },
  {
   "cell_type": "code",
   "execution_count": 26,
   "id": "93000556",
   "metadata": {},
   "outputs": [],
   "source": [
    "def output_lable(n):\n",
    "    if n == 1:\n",
    "        return \"Fake News\"\n",
    "    elif n == 0:\n",
    "        return \"Real News\"\n",
    "    \n",
    "def manual_testing(news):\n",
    "    testing_news = {\"text\":[news]}\n",
    "    new_def_test = pd.DataFrame(testing_news)\n",
    "    new_def_test[\"text\"] = new_def_test[\"text\"].apply(data_cleaning) \n",
    "    new_x_test = new_def_test[\"text\"]\n",
    "    new_xv_test = vectorization.transform(new_x_test)\n",
    "    pred_LR = LR_model.predict(new_xv_test)\n",
    "    pred_DT = DT_model.predict(new_xv_test)\n",
    "    pred_RFC = RFC_model.predict(new_xv_test)\n",
    "    pred_MNB = MNB_model.predict(new_xv_test)\n",
    "    pred_GBC = GBC_model.predict(new_xv_test)\n",
    "\n",
    "    return print(\"\\n\\nLR Prediction: {} \\nDT Prediction: {} \\nRFC Prediction: {} \\nMNB Prediction: {} \\nGBC Prediction: {}\"\n",
    "                 .format(output_lable(pred_LR[0]), output_lable(pred_DT[0]), output_lable(pred_RFC[0]),\n",
    "                         output_lable(pred_MNB[0]), output_lable(pred_GBC[0])))"
   ]
  },
  {
   "cell_type": "code",
   "execution_count": 27,
   "id": "b5f00fec",
   "metadata": {},
   "outputs": [
    {
     "name": "stdout",
     "output_type": "stream",
     "text": [
      "One of the country's longest-serving politicians, he promised voters \"safe change\" as he worked to kick out the conservative Liberal-National coalition which has been in power since 2013.  Where ousted Prime Minister Scott Morrison is a self-described \"bulldozer\", Mr Albanese vows to be a \"builder\".  After the pandemic, which saw Australian states cut off from each other and cities splintered by strict lockdowns, fostering unity is a top priority for the new leader.  \"I want to bring Australians together. I want to seek our common purpose and promote unity and optimism, not fear and division,\" he said in a victory speech on Saturday night. Mr Albanese has earned a reputation as a defender of Australia's free healthcare system, an advocate for the LGBT community, a republican, and a passionate rugby league fan.  The 59-year-old - nicknamed Albo - was raised in social housing by a single mother on a disability pension. He has often cited his upbringing as the foundation for his progressive beliefs.  Mr Albanese believed his father had died before he was born, but as a teenager he learned his mother had in fact fallen pregnant to a married man - who was very likely still alive - while travelling in Europe.  Three decades later he tracked down Carlo Albanese, flying to Italy to meet his father for the first time, and his half-siblings.  Mr Albanese said his mother, Maryanne Ellery, was determined to ensure he had opportunities that she never did. With her support, he became the first in his family to finish school and go to university.  He has said creating a better world for his own son, Nathan, is the inspiration behind his public life. Mr Albanese separated from his wife of 19 years in 2019 but partner Jodie Haydon joined him on the campaign trail.\n",
      "\n",
      "\n",
      "LR Prediction: Fake News \n",
      "DT Prediction: Fake News \n",
      "RFC Prediction: Fake News \n",
      "MNB Prediction: Fake News \n",
      "GBC Prediction: Fake News\n"
     ]
    }
   ],
   "source": [
    "news = str(input())\n",
    "manual_testing(news)"
   ]
  },
  {
   "cell_type": "code",
   "execution_count": 28,
   "id": "d88e2b91",
   "metadata": {},
   "outputs": [],
   "source": [
    "new_df = pd.read_csv(\"clean_test_data.csv\")\n",
    "new_xv_test = vectorization.transform(new_df['text'])"
   ]
  },
  {
   "cell_type": "code",
   "execution_count": 29,
   "id": "62584960",
   "metadata": {},
   "outputs": [
    {
     "data": {
      "text/plain": [
       "array([[0.95162411, 0.04837589],\n",
       "       [0.96046147, 0.03953853],\n",
       "       [0.92130842, 0.07869158],\n",
       "       ...,\n",
       "       [0.80097995, 0.19902005],\n",
       "       [0.92888992, 0.07111008],\n",
       "       [0.34487678, 0.65512322]])"
      ]
     },
     "execution_count": 29,
     "metadata": {},
     "output_type": "execute_result"
    }
   ],
   "source": [
    "LR_model.predict_proba(new_xv_test)"
   ]
  },
  {
   "cell_type": "code",
   "execution_count": 30,
   "id": "e56b9cb1",
   "metadata": {},
   "outputs": [
    {
     "data": {
      "text/plain": [
       "0.5354919053549191"
      ]
     },
     "execution_count": 30,
     "metadata": {},
     "output_type": "execute_result"
    }
   ],
   "source": [
    "LR_model.score(new_xv_test, new_df['fake'])"
   ]
  },
  {
   "cell_type": "code",
   "execution_count": 31,
   "id": "81f4a65f",
   "metadata": {},
   "outputs": [
    {
     "data": {
      "text/plain": [
       "0.48443337484433374"
      ]
     },
     "execution_count": 31,
     "metadata": {},
     "output_type": "execute_result"
    }
   ],
   "source": [
    "DT_model.score(new_xv_test, new_df['fake'])"
   ]
  },
  {
   "cell_type": "code",
   "execution_count": 32,
   "id": "fe3b743d",
   "metadata": {},
   "outputs": [
    {
     "data": {
      "text/plain": [
       "0.526774595267746"
      ]
     },
     "execution_count": 32,
     "metadata": {},
     "output_type": "execute_result"
    }
   ],
   "source": [
    "RFC_model.score(new_xv_test, new_df['fake'])"
   ]
  },
  {
   "cell_type": "code",
   "execution_count": 33,
   "id": "9bffafb4",
   "metadata": {},
   "outputs": [],
   "source": [
    "from sklearn.cluster import KMeans"
   ]
  },
  {
   "cell_type": "code",
   "execution_count": 34,
   "id": "613c6af0",
   "metadata": {},
   "outputs": [],
   "source": [
    "kmeans = KMeans(n_clusters=2)"
   ]
  },
  {
   "cell_type": "code",
   "execution_count": 35,
   "id": "ec58b263",
   "metadata": {},
   "outputs": [
    {
     "data": {
      "text/plain": [
       "KMeans(n_clusters=2)"
      ]
     },
     "execution_count": 35,
     "metadata": {},
     "output_type": "execute_result"
    }
   ],
   "source": [
    "kmeans.fit(xv_train)"
   ]
  },
  {
   "cell_type": "code",
   "execution_count": 36,
   "id": "61c005db",
   "metadata": {},
   "outputs": [
    {
     "data": {
      "text/plain": [
       "array([1, 1, 1, ..., 1, 0, 1])"
      ]
     },
     "execution_count": 36,
     "metadata": {},
     "output_type": "execute_result"
    }
   ],
   "source": [
    "kmeans.predict(xv_test)"
   ]
  },
  {
   "cell_type": "code",
   "execution_count": 37,
   "id": "3e683c09",
   "metadata": {},
   "outputs": [
    {
     "data": {
      "text/plain": [
       "-8571.098860656713"
      ]
     },
     "execution_count": 37,
     "metadata": {},
     "output_type": "execute_result"
    }
   ],
   "source": [
    "kmeans.score(xv_test, y_test)"
   ]
  },
  {
   "cell_type": "code",
   "execution_count": 57,
   "id": "82a87f30",
   "metadata": {},
   "outputs": [
    {
     "data": {
      "text/plain": [
       "([<matplotlib.axis.YTick at 0x20c1b14dfd0>,\n",
       "  <matplotlib.axis.YTick at 0x20c1b14dba8>,\n",
       "  <matplotlib.axis.YTick at 0x20c1b145e10>,\n",
       "  <matplotlib.axis.YTick at 0x20c19470c50>,\n",
       "  <matplotlib.axis.YTick at 0x20c1948d128>,\n",
       "  <matplotlib.axis.YTick at 0x20c1948d5c0>,\n",
       "  <matplotlib.axis.YTick at 0x20c191a26d8>,\n",
       "  <matplotlib.axis.YTick at 0x20c1948d940>,\n",
       "  <matplotlib.axis.YTick at 0x20c1948ddd8>,\n",
       "  <matplotlib.axis.YTick at 0x20c194962b0>],\n",
       " [Text(0, 0, ''),\n",
       "  Text(0, 0, ''),\n",
       "  Text(0, 0, ''),\n",
       "  Text(0, 0, ''),\n",
       "  Text(0, 0, ''),\n",
       "  Text(0, 0, ''),\n",
       "  Text(0, 0, ''),\n",
       "  Text(0, 0, ''),\n",
       "  Text(0, 0, ''),\n",
       "  Text(0, 0, '')])"
      ]
     },
     "execution_count": 57,
     "metadata": {},
     "output_type": "execute_result"
    },
    {
     "data": {
      "image/png": "[encoded data removed]",
      "text/plain": [
       "<Figure size 576x504 with 1 Axes>"
      ]
     },
     "metadata": {
      "needs_background": "light"
     },
     "output_type": "display_data"
    }
   ],
   "source": [
    "plt.figure(figsize=(8,7))\n",
    "plt.bar(list(dct.keys()),list(dct.values()))\n",
    "plt.ylim(90,100)\n",
    "plt.yticks((91, 92, 93, 94, 95, 96, 97, 98, 99, 100))"
   ]
  },
  {
   "cell_type": "code",
   "execution_count": null,
   "id": "fc8ed696",
   "metadata": {},
   "outputs": [],
   "source": []
  }
 ],
 "metadata": {
  "kernelspec": {
   "display_name": "Python 3",
   "language": "python",
   "name": "python3"
  },
  "language_info": {
   "codemirror_mode": {
    "name": "ipython",
    "version": 3
   },
   "file_extension": ".py",
   "mimetype": "text/x-python",
   "name": "python",
   "nbconvert_exporter": "python",
   "pygments_lexer": "ipython3",
   "version": "3.6.13"
  }
 },
 "nbformat": 4,
 "nbformat_minor": 5
}
